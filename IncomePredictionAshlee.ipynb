{
 "cells": [
  {
   "cell_type": "code",
   "execution_count": 2,
   "metadata": {},
   "outputs": [
    {
     "name": "stdout",
     "output_type": "stream",
     "text": [
      "2.2.2\n"
     ]
    }
   ],
   "source": [
    "import pandas \n",
    "print(pandas.__version__)"
   ]
  },
  {
   "cell_type": "code",
   "execution_count": 3,
   "metadata": {},
   "outputs": [
    {
     "name": "stdout",
     "output_type": "stream",
     "text": [
      "1.26.4\n"
     ]
    }
   ],
   "source": [
    "import numpy\n",
    "print(numpy.__version__)"
   ]
  },
  {
   "cell_type": "code",
   "execution_count": 4,
   "metadata": {},
   "outputs": [
    {
     "name": "stdout",
     "output_type": "stream",
     "text": [
      "Python 3.12.8\n"
     ]
    }
   ],
   "source": [
    "!python --version"
   ]
  },
  {
   "cell_type": "code",
   "execution_count": 5,
   "metadata": {},
   "outputs": [
    {
     "name": "stdout",
     "output_type": "stream",
     "text": [
      "Name: scikit-learn\n",
      "Version: 1.4.2\n",
      "Summary: A set of python modules for machine learning and data mining\n",
      "Home-page: https://scikit-learn.org\n",
      "Author: \n",
      "Author-email: \n",
      "License: new BSD\n",
      "Location: C:\\Users\\ashle\\anaconda3\\Lib\\site-packages\n",
      "Requires: joblib, numpy, scipy, threadpoolctl\n",
      "Required-by: imbalanced-learn\n"
     ]
    }
   ],
   "source": [
    "!pip show scikit-learn"
   ]
  },
  {
   "cell_type": "code",
   "execution_count": 38,
   "metadata": {},
   "outputs": [],
   "source": [
    "#!/usr/bin/env python\n",
    "# coding: utf-8\n",
    "\n",
    "# Import necessary packages\n",
    "import warnings\n",
    "warnings.filterwarnings('ignore')\n",
    "import pandas as pd\n",
    "import numpy as np\n",
    "from sklearn import preprocessing\n",
    "from sklearn.model_selection import train_test_split\n",
    "from sklearn.metrics import accuracy_score, confusion_matrix, classification_report, roc_auc_score, roc_curve, f1_score, recall_score, precision_score\n",
    "from sklearn.ensemble import RandomForestClassifier, GradientBoostingClassifier, AdaBoostClassifier\n",
    "import pickle\n",
    "import matplotlib.pyplot as plt"
   ]
  },
  {
   "cell_type": "code",
   "execution_count": 7,
   "metadata": {},
   "outputs": [
    {
     "name": "stdout",
     "output_type": "stream",
     "text": [
      "Current Working Directory: c:\\Users\\ashle\\Downloads\\streamlit_handson\n",
      "Files in directory: ['adult - Copy.csv', 'first_income_app.py', 'football_data.csv', 'hello_world.py', 'IncomePredictionAshlee.ipynb', 'IncomePrediction_Working - Copy.ipynb', 'IncomePrediction_Working.py', 'P02-Income Predictor Streamlit-Cloud.pdf', 'Peer', 'requirements - Copy.txt', 'sl_titanic_practice.py', 'Titanic_Data.csv', 'titanic_model_build.ipynb', 'titanic_predictor.sav', 'titanic_pred_app.py']\n"
     ]
    }
   ],
   "source": [
    "import os\n",
    "\n",
    "print(\"Current Working Directory:\", os.getcwd())\n",
    "print(\"Files in directory:\", os.listdir())"
   ]
  },
  {
   "cell_type": "code",
   "execution_count": 8,
   "metadata": {},
   "outputs": [],
   "source": [
    "df_data = pd.read_csv(\"C:/Users/ashle/Downloads/streamlit_handson/adult - Copy.csv\")\n"
   ]
  },
  {
   "cell_type": "code",
   "execution_count": 9,
   "metadata": {},
   "outputs": [
    {
     "data": {
      "text/html": [
       "<div>\n",
       "<style scoped>\n",
       "    .dataframe tbody tr th:only-of-type {\n",
       "        vertical-align: middle;\n",
       "    }\n",
       "\n",
       "    .dataframe tbody tr th {\n",
       "        vertical-align: top;\n",
       "    }\n",
       "\n",
       "    .dataframe thead th {\n",
       "        text-align: right;\n",
       "    }\n",
       "</style>\n",
       "<table border=\"1\" class=\"dataframe\">\n",
       "  <thead>\n",
       "    <tr style=\"text-align: right;\">\n",
       "      <th></th>\n",
       "      <th>age</th>\n",
       "      <th>workclass</th>\n",
       "      <th>fnlwgt</th>\n",
       "      <th>education</th>\n",
       "      <th>educationalnum</th>\n",
       "      <th>maritalstatus</th>\n",
       "      <th>occupation</th>\n",
       "      <th>relationship</th>\n",
       "      <th>race</th>\n",
       "      <th>gender</th>\n",
       "      <th>capitalgain</th>\n",
       "      <th>capitalloss</th>\n",
       "      <th>hoursperweek</th>\n",
       "      <th>nativecountry</th>\n",
       "      <th>income</th>\n",
       "    </tr>\n",
       "  </thead>\n",
       "  <tbody>\n",
       "    <tr>\n",
       "      <th>0</th>\n",
       "      <td>39</td>\n",
       "      <td>State-gov</td>\n",
       "      <td>77516</td>\n",
       "      <td>Bachelors</td>\n",
       "      <td>13</td>\n",
       "      <td>Never-married</td>\n",
       "      <td>Adm-clerical</td>\n",
       "      <td>Not-in-family</td>\n",
       "      <td>White</td>\n",
       "      <td>Male</td>\n",
       "      <td>2174</td>\n",
       "      <td>0</td>\n",
       "      <td>40</td>\n",
       "      <td>United-States</td>\n",
       "      <td>&lt;=50K</td>\n",
       "    </tr>\n",
       "    <tr>\n",
       "      <th>1</th>\n",
       "      <td>50</td>\n",
       "      <td>Self-emp-not-inc</td>\n",
       "      <td>83311</td>\n",
       "      <td>Bachelors</td>\n",
       "      <td>13</td>\n",
       "      <td>Married-civ-spouse</td>\n",
       "      <td>Exec-managerial</td>\n",
       "      <td>Husband</td>\n",
       "      <td>White</td>\n",
       "      <td>Male</td>\n",
       "      <td>0</td>\n",
       "      <td>0</td>\n",
       "      <td>13</td>\n",
       "      <td>United-States</td>\n",
       "      <td>&lt;=50K</td>\n",
       "    </tr>\n",
       "    <tr>\n",
       "      <th>2</th>\n",
       "      <td>38</td>\n",
       "      <td>Private</td>\n",
       "      <td>215646</td>\n",
       "      <td>HS-grad</td>\n",
       "      <td>9</td>\n",
       "      <td>Divorced</td>\n",
       "      <td>Handlers-cleaners</td>\n",
       "      <td>Not-in-family</td>\n",
       "      <td>White</td>\n",
       "      <td>Male</td>\n",
       "      <td>0</td>\n",
       "      <td>0</td>\n",
       "      <td>40</td>\n",
       "      <td>United-States</td>\n",
       "      <td>&lt;=50K</td>\n",
       "    </tr>\n",
       "    <tr>\n",
       "      <th>3</th>\n",
       "      <td>53</td>\n",
       "      <td>Private</td>\n",
       "      <td>234721</td>\n",
       "      <td>11th</td>\n",
       "      <td>7</td>\n",
       "      <td>Married-civ-spouse</td>\n",
       "      <td>Handlers-cleaners</td>\n",
       "      <td>Husband</td>\n",
       "      <td>Black</td>\n",
       "      <td>Male</td>\n",
       "      <td>0</td>\n",
       "      <td>0</td>\n",
       "      <td>40</td>\n",
       "      <td>United-States</td>\n",
       "      <td>&lt;=50K</td>\n",
       "    </tr>\n",
       "    <tr>\n",
       "      <th>4</th>\n",
       "      <td>28</td>\n",
       "      <td>Private</td>\n",
       "      <td>338409</td>\n",
       "      <td>Bachelors</td>\n",
       "      <td>13</td>\n",
       "      <td>Married-civ-spouse</td>\n",
       "      <td>Prof-specialty</td>\n",
       "      <td>Wife</td>\n",
       "      <td>Black</td>\n",
       "      <td>Female</td>\n",
       "      <td>0</td>\n",
       "      <td>0</td>\n",
       "      <td>40</td>\n",
       "      <td>Cuba</td>\n",
       "      <td>&lt;=50K</td>\n",
       "    </tr>\n",
       "  </tbody>\n",
       "</table>\n",
       "</div>"
      ],
      "text/plain": [
       "   age          workclass  fnlwgt   education  educationalnum  \\\n",
       "0   39          State-gov   77516   Bachelors              13   \n",
       "1   50   Self-emp-not-inc   83311   Bachelors              13   \n",
       "2   38            Private  215646     HS-grad               9   \n",
       "3   53            Private  234721        11th               7   \n",
       "4   28            Private  338409   Bachelors              13   \n",
       "\n",
       "         maritalstatus          occupation    relationship    race   gender  \\\n",
       "0        Never-married        Adm-clerical   Not-in-family   White     Male   \n",
       "1   Married-civ-spouse     Exec-managerial         Husband   White     Male   \n",
       "2             Divorced   Handlers-cleaners   Not-in-family   White     Male   \n",
       "3   Married-civ-spouse   Handlers-cleaners         Husband   Black     Male   \n",
       "4   Married-civ-spouse      Prof-specialty            Wife   Black   Female   \n",
       "\n",
       "   capitalgain  capitalloss  hoursperweek   nativecountry  income  \n",
       "0         2174            0            40   United-States   <=50K  \n",
       "1            0            0            13   United-States   <=50K  \n",
       "2            0            0            40   United-States   <=50K  \n",
       "3            0            0            40   United-States   <=50K  \n",
       "4            0            0            40            Cuba   <=50K  "
      ]
     },
     "execution_count": 9,
     "metadata": {},
     "output_type": "execute_result"
    }
   ],
   "source": [
    "df_data.head()"
   ]
  },
  {
   "cell_type": "code",
   "execution_count": 10,
   "metadata": {},
   "outputs": [
    {
     "data": {
      "text/plain": [
       "array([' State-gov', ' Self-emp-not-inc', ' Private', ' Federal-gov',\n",
       "       ' Local-gov', ' ?', ' Self-emp-inc', ' Without-pay',\n",
       "       ' Never-worked'], dtype=object)"
      ]
     },
     "execution_count": 10,
     "metadata": {},
     "output_type": "execute_result"
    }
   ],
   "source": [
    "df_data[\"workclass\"].unique()"
   ]
  },
  {
   "cell_type": "code",
   "execution_count": 11,
   "metadata": {},
   "outputs": [],
   "source": [
    "df_data = df_data.drop(['fnlwgt', 'educationalnum'], axis=1)"
   ]
  },
  {
   "cell_type": "code",
   "execution_count": 12,
   "metadata": {},
   "outputs": [],
   "source": [
    "col_names = df_data.columns\n"
   ]
  },
  {
   "cell_type": "code",
   "execution_count": 13,
   "metadata": {},
   "outputs": [],
   "source": [
    "for c in col_names:\n",
    "    df_data = df_data.replace(\"?\", np.NaN)\n",
    "df_data = df_data.apply(lambda x:x.fillna(x.value_counts().index[0]))"
   ]
  },
  {
   "cell_type": "code",
   "execution_count": 14,
   "metadata": {},
   "outputs": [],
   "source": [
    "category_col =['workclass', 'education', 'maritalstatus', 'occupation', 'relationship', 'race', 'gender', 'nativecountry', 'income']\n",
    "lbl_data = df_data.copy()\n",
    "df_input = df_data[category_col].copy()\n",
    "enc = preprocessing.LabelEncoder()\n",
    "encoder_dict = dict()\n",
    "for cat in category_col:\n",
    "    df_input[cat] = df_input[cat].str.lstrip()\n",
    "    enc = enc.fit(list(df_input[cat]) + ['Unknown'])\n",
    "    encoder_dict[cat] = [cat for cat in enc.classes_]\n",
    "    lbl_data[cat] = enc.transform(df_input[cat])\n"
   ]
  },
  {
   "cell_type": "code",
   "execution_count": 15,
   "metadata": {},
   "outputs": [
    {
     "data": {
      "text/html": [
       "<div>\n",
       "<style scoped>\n",
       "    .dataframe tbody tr th:only-of-type {\n",
       "        vertical-align: middle;\n",
       "    }\n",
       "\n",
       "    .dataframe tbody tr th {\n",
       "        vertical-align: top;\n",
       "    }\n",
       "\n",
       "    .dataframe thead th {\n",
       "        text-align: right;\n",
       "    }\n",
       "</style>\n",
       "<table border=\"1\" class=\"dataframe\">\n",
       "  <thead>\n",
       "    <tr style=\"text-align: right;\">\n",
       "      <th></th>\n",
       "      <th>age</th>\n",
       "      <th>workclass</th>\n",
       "      <th>education</th>\n",
       "      <th>maritalstatus</th>\n",
       "      <th>occupation</th>\n",
       "      <th>relationship</th>\n",
       "      <th>race</th>\n",
       "      <th>gender</th>\n",
       "      <th>capitalgain</th>\n",
       "      <th>capitalloss</th>\n",
       "      <th>hoursperweek</th>\n",
       "      <th>nativecountry</th>\n",
       "      <th>income</th>\n",
       "    </tr>\n",
       "  </thead>\n",
       "  <tbody>\n",
       "    <tr>\n",
       "      <th>0</th>\n",
       "      <td>39</td>\n",
       "      <td>7</td>\n",
       "      <td>9</td>\n",
       "      <td>4</td>\n",
       "      <td>1</td>\n",
       "      <td>1</td>\n",
       "      <td>5</td>\n",
       "      <td>1</td>\n",
       "      <td>2174</td>\n",
       "      <td>0</td>\n",
       "      <td>40</td>\n",
       "      <td>39</td>\n",
       "      <td>0</td>\n",
       "    </tr>\n",
       "    <tr>\n",
       "      <th>1</th>\n",
       "      <td>50</td>\n",
       "      <td>6</td>\n",
       "      <td>9</td>\n",
       "      <td>2</td>\n",
       "      <td>4</td>\n",
       "      <td>0</td>\n",
       "      <td>5</td>\n",
       "      <td>1</td>\n",
       "      <td>0</td>\n",
       "      <td>0</td>\n",
       "      <td>13</td>\n",
       "      <td>39</td>\n",
       "      <td>0</td>\n",
       "    </tr>\n",
       "    <tr>\n",
       "      <th>2</th>\n",
       "      <td>38</td>\n",
       "      <td>4</td>\n",
       "      <td>11</td>\n",
       "      <td>0</td>\n",
       "      <td>6</td>\n",
       "      <td>1</td>\n",
       "      <td>5</td>\n",
       "      <td>1</td>\n",
       "      <td>0</td>\n",
       "      <td>0</td>\n",
       "      <td>40</td>\n",
       "      <td>39</td>\n",
       "      <td>0</td>\n",
       "    </tr>\n",
       "    <tr>\n",
       "      <th>3</th>\n",
       "      <td>53</td>\n",
       "      <td>4</td>\n",
       "      <td>1</td>\n",
       "      <td>2</td>\n",
       "      <td>6</td>\n",
       "      <td>0</td>\n",
       "      <td>2</td>\n",
       "      <td>1</td>\n",
       "      <td>0</td>\n",
       "      <td>0</td>\n",
       "      <td>40</td>\n",
       "      <td>39</td>\n",
       "      <td>0</td>\n",
       "    </tr>\n",
       "    <tr>\n",
       "      <th>4</th>\n",
       "      <td>28</td>\n",
       "      <td>4</td>\n",
       "      <td>9</td>\n",
       "      <td>2</td>\n",
       "      <td>10</td>\n",
       "      <td>6</td>\n",
       "      <td>2</td>\n",
       "      <td>0</td>\n",
       "      <td>0</td>\n",
       "      <td>0</td>\n",
       "      <td>40</td>\n",
       "      <td>5</td>\n",
       "      <td>0</td>\n",
       "    </tr>\n",
       "  </tbody>\n",
       "</table>\n",
       "</div>"
      ],
      "text/plain": [
       "   age  workclass  education  maritalstatus  occupation  relationship  race  \\\n",
       "0   39          7          9              4           1             1     5   \n",
       "1   50          6          9              2           4             0     5   \n",
       "2   38          4         11              0           6             1     5   \n",
       "3   53          4          1              2           6             0     2   \n",
       "4   28          4          9              2          10             6     2   \n",
       "\n",
       "   gender  capitalgain  capitalloss  hoursperweek  nativecountry  income  \n",
       "0       1         2174            0            40             39       0  \n",
       "1       1            0            0            13             39       0  \n",
       "2       1            0            0            40             39       0  \n",
       "3       1            0            0            40             39       0  \n",
       "4       0            0            0            40              5       0  "
      ]
     },
     "execution_count": 15,
     "metadata": {},
     "output_type": "execute_result"
    }
   ],
   "source": [
    "lbl_data.head()"
   ]
  },
  {
   "cell_type": "code",
   "execution_count": 16,
   "metadata": {},
   "outputs": [
    {
     "name": "stdout",
     "output_type": "stream",
     "text": [
      "{'workclass': ['?', 'Federal-gov', 'Local-gov', 'Never-worked', 'Private', 'Self-emp-inc', 'Self-emp-not-inc', 'State-gov', 'Unknown', 'Without-pay'], 'education': ['10th', '11th', '12th', '1st-4th', '5th-6th', '7th-8th', '9th', 'Assoc-acdm', 'Assoc-voc', 'Bachelors', 'Doctorate', 'HS-grad', 'Masters', 'Preschool', 'Prof-school', 'Some-college', 'Unknown'], 'maritalstatus': ['Divorced', 'Married-AF-spouse', 'Married-civ-spouse', 'Married-spouse-absent', 'Never-married', 'Separated', 'Unknown', 'Widowed'], 'occupation': ['?', 'Adm-clerical', 'Armed-Forces', 'Craft-repair', 'Exec-managerial', 'Farming-fishing', 'Handlers-cleaners', 'Machine-op-inspct', 'Other-service', 'Priv-house-serv', 'Prof-specialty', 'Protective-serv', 'Sales', 'Tech-support', 'Transport-moving', 'Unknown'], 'relationship': ['Husband', 'Not-in-family', 'Other-relative', 'Own-child', 'Unknown', 'Unmarried', 'Wife'], 'race': ['Amer-Indian-Eskimo', 'Asian-Pac-Islander', 'Black', 'Other', 'Unknown', 'White'], 'gender': ['Female', 'Male', 'Unknown'], 'nativecountry': ['?', 'Cambodia', 'Canada', 'China', 'Columbia', 'Cuba', 'Dominican-Republic', 'Ecuador', 'El-Salvador', 'England', 'France', 'Germany', 'Greece', 'Guatemala', 'Haiti', 'Holand-Netherlands', 'Honduras', 'Hong', 'Hungary', 'India', 'Iran', 'Ireland', 'Italy', 'Jamaica', 'Japan', 'Laos', 'Mexico', 'Nicaragua', 'Outlying-US(Guam-USVI-etc)', 'Peru', 'Philippines', 'Poland', 'Portugal', 'Puerto-Rico', 'Scotland', 'South', 'Taiwan', 'Thailand', 'Trinadad&Tobago', 'United-States', 'Unknown', 'Vietnam', 'Yugoslavia'], 'income': ['<=50K', '>50K', 'Unknown']}\n"
     ]
    }
   ],
   "source": [
    "print(encoder_dict)"
   ]
  },
  {
   "cell_type": "code",
   "execution_count": 17,
   "metadata": {},
   "outputs": [],
   "source": [
    "encoder_pickle_out = open(\"encoder.pkl\", \"wb\")\n",
    "pickle.dump(encoder_dict, encoder_pickle_out)\n",
    "encoder_pickle_out.close()"
   ]
  },
  {
   "cell_type": "code",
   "execution_count": 18,
   "metadata": {},
   "outputs": [],
   "source": [
    "X = lbl_data.drop('income', axis = 1)\n",
    "Y = lbl_data['income']"
   ]
  },
  {
   "cell_type": "code",
   "execution_count": 21,
   "metadata": {},
   "outputs": [],
   "source": [
    "X_train, X_test, y_train, y_test = train_test_split(X, Y, test_size = 0.3, random_state = 100)\n"
   ]
  },
  {
   "cell_type": "code",
   "execution_count": 28,
   "metadata": {},
   "outputs": [
    {
     "name": "stdout",
     "output_type": "stream",
     "text": [
      "[[6866  562]\n",
      " [ 890 1451]]\n",
      "              precision    recall  f1-score   support\n",
      "\n",
      "           0       0.89      0.92      0.90      7428\n",
      "           1       0.72      0.62      0.67      2341\n",
      "\n",
      "    accuracy                           0.85      9769\n",
      "   macro avg       0.80      0.77      0.79      9769\n",
      "weighted avg       0.85      0.85      0.85      9769\n",
      "\n",
      "Accuracy Score: 0.8513665677141979\n",
      "Recall Score: 0.6198205894916702\n",
      "Precision Score: 0.7208147044212618\n",
      "ROC AUC Score:  0.7720804616817534\n",
      "Threshold: [inf  1.  0.]\n"
     ]
    }
   ],
   "source": [
    "#Model 1: RANDOM FOREST -- testing\n",
    "\n",
    "rf = RandomForestClassifier(n_estimators=100, random_state=0)\n",
    "rf.fit(X_train, y_train)\n",
    "ypred = rf.predict(X_test)\n",
    "print(confusion_matrix(y_test, ypred))\n",
    "print(classification_report(y_test, ypred))\n",
    "print(\"Accuracy Score:\", accuracy_score(y_test, ypred))\n",
    "print(\"Recall Score:\", recall_score(y_test, ypred))\n",
    "print(\"Precision Score:\", precision_score(y_test, ypred))\n",
    "print(\"ROC AUC Score: \", roc_auc_score(y_test, ypred))\n",
    "rf_fp, rf_tp, rf_threshold = roc_curve(y_test, ypred)\n",
    "print(\"Threshold:\", rf_threshold)"
   ]
  },
  {
   "cell_type": "code",
   "execution_count": 33,
   "metadata": {},
   "outputs": [
    {
     "name": "stdout",
     "output_type": "stream",
     "text": [
      "[[7035  393]\n",
      " [ 905 1436]]\n",
      "              precision    recall  f1-score   support\n",
      "\n",
      "           0       0.89      0.95      0.92      7428\n",
      "           1       0.79      0.61      0.69      2341\n",
      "\n",
      "    accuracy                           0.87      9769\n",
      "   macro avg       0.84      0.78      0.80      9769\n",
      "weighted avg       0.86      0.87      0.86      9769\n",
      "\n",
      "Accuracy Score: 0.8671307196232982\n",
      "Recall Score: 0.6134130713370355\n",
      "Precision Score: 0.7851284855112083\n",
      "ROC AUC Score:  0.7802525776717487\n",
      "Threshold: [inf  1.  0.]\n"
     ]
    }
   ],
   "source": [
    "#Model 2: GRADIENT BOOSTING CLASSIFIER\n",
    "\n",
    "gbc = GradientBoostingClassifier(n_estimators=100, random_state=0)\n",
    "gbc.fit(X_train, y_train)\n",
    "ypred = gbc.predict(X_test)\n",
    "print(confusion_matrix(y_test, ypred))\n",
    "print(classification_report(y_test, ypred))\n",
    "print(\"Accuracy Score:\", accuracy_score(y_test, ypred))\n",
    "print(\"Recall Score:\", recall_score(y_test, ypred))\n",
    "print(\"Precision Score:\", precision_score(y_test, ypred))\n",
    "print(\"ROC AUC Score: \", roc_auc_score(y_test, ypred))\n",
    "gbc_fp, gbc_tp, gbc_threshold = roc_curve(y_test, ypred)\n",
    "print(\"Threshold:\", gbc_threshold)"
   ]
  },
  {
   "cell_type": "code",
   "execution_count": 36,
   "metadata": {},
   "outputs": [
    {
     "name": "stdout",
     "output_type": "stream",
     "text": [
      "[[6980  448]\n",
      " [ 884 1457]]\n",
      "              precision    recall  f1-score   support\n",
      "\n",
      "           0       0.89      0.94      0.91      7428\n",
      "           1       0.76      0.62      0.69      2341\n",
      "\n",
      "    accuracy                           0.86      9769\n",
      "   macro avg       0.83      0.78      0.80      9769\n",
      "weighted avg       0.86      0.86      0.86      9769\n",
      "\n",
      "Accuracy Score: 0.8636503224485618\n",
      "Recall Score: 0.6223835967535242\n",
      "Precision Score: 0.7648293963254593\n",
      "ROC AUC Score:  0.7810356325178498\n",
      "Threshold: [inf  1.  0.]\n"
     ]
    }
   ],
   "source": [
    "#Model 3: ADA BOOST CLASSIFIER\n",
    "\n",
    "abc = AdaBoostClassifier(n_estimators=100, random_state=0)\n",
    "abc.fit(X_train, y_train)\n",
    "ypred = abc.predict(X_test)\n",
    "print(confusion_matrix(y_test, ypred))\n",
    "print(classification_report(y_test, ypred))\n",
    "print(\"Accuracy Score:\", accuracy_score(y_test, ypred))\n",
    "print(\"Recall Score:\", recall_score(y_test, ypred))\n",
    "print(\"Precision Score:\", precision_score(y_test, ypred))\n",
    "print(\"ROC AUC Score: \", roc_auc_score(y_test, ypred))\n",
    "abc_fp, abc_tp, abc_threshold = roc_curve(y_test, ypred)\n",
    "print(\"Threshold:\", abc_threshold)"
   ]
  },
  {
   "cell_type": "code",
   "execution_count": 39,
   "metadata": {},
   "outputs": [
    {
     "data": {
      "text/plain": [
       "<matplotlib.legend.Legend at 0x23700d33c20>"
      ]
     },
     "execution_count": 39,
     "metadata": {},
     "output_type": "execute_result"
    },
    {
     "data": {
      "image/png": "[encoded data removed]",
      "text/plain": [
       "<Figure size 2000x1000 with 1 Axes>"
      ]
     },
     "metadata": {},
     "output_type": "display_data"
    }
   ],
   "source": [
    "#Plotting the ROC curve \n",
    "\n",
    "plt.figure(figsize=(20,10))\n",
    "plt.plot([0, 1], [0, 1], linestyle = \"--\")\n",
    "plt.plot(rf_fp, rf_tp, color=\"red\", label = \"Random Forest\")\n",
    "plt.plot(gbc_fp, gbc_tp, color=\"green\", label = \"Gradient Booting\")\n",
    "plt.plot(abc_fp, abc_tp, color=\"blue\", label = \"Ada Boosting\")\n",
    "plt.xlabel(\"False Positive Rate\")\n",
    "plt.ylabel(\"True Positive Rate\")\n",
    "plt.title(\"ROC Curve\")\n",
    "plt.legend()"
   ]
  },
  {
   "cell_type": "code",
   "execution_count": 40,
   "metadata": {},
   "outputs": [
    {
     "data": {
      "text/html": [
       "<div>\n",
       "<style scoped>\n",
       "    .dataframe tbody tr th:only-of-type {\n",
       "        vertical-align: middle;\n",
       "    }\n",
       "\n",
       "    .dataframe tbody tr th {\n",
       "        vertical-align: top;\n",
       "    }\n",
       "\n",
       "    .dataframe thead th {\n",
       "        text-align: right;\n",
       "    }\n",
       "</style>\n",
       "<table border=\"1\" class=\"dataframe\">\n",
       "  <thead>\n",
       "    <tr style=\"text-align: right;\">\n",
       "      <th></th>\n",
       "      <th>Feature</th>\n",
       "      <th>Importance</th>\n",
       "    </tr>\n",
       "  </thead>\n",
       "  <tbody>\n",
       "    <tr>\n",
       "      <th>0</th>\n",
       "      <td>age</td>\n",
       "      <td>0.224647</td>\n",
       "    </tr>\n",
       "    <tr>\n",
       "      <th>8</th>\n",
       "      <td>capitalgain</td>\n",
       "      <td>0.130645</td>\n",
       "    </tr>\n",
       "    <tr>\n",
       "      <th>5</th>\n",
       "      <td>relationship</td>\n",
       "      <td>0.114418</td>\n",
       "    </tr>\n",
       "    <tr>\n",
       "      <th>10</th>\n",
       "      <td>hoursperweek</td>\n",
       "      <td>0.112314</td>\n",
       "    </tr>\n",
       "    <tr>\n",
       "      <th>2</th>\n",
       "      <td>education</td>\n",
       "      <td>0.102435</td>\n",
       "    </tr>\n",
       "    <tr>\n",
       "      <th>4</th>\n",
       "      <td>occupation</td>\n",
       "      <td>0.094305</td>\n",
       "    </tr>\n",
       "    <tr>\n",
       "      <th>3</th>\n",
       "      <td>maritalstatus</td>\n",
       "      <td>0.068784</td>\n",
       "    </tr>\n",
       "    <tr>\n",
       "      <th>1</th>\n",
       "      <td>workclass</td>\n",
       "      <td>0.052675</td>\n",
       "    </tr>\n",
       "    <tr>\n",
       "      <th>9</th>\n",
       "      <td>capitalloss</td>\n",
       "      <td>0.045608</td>\n",
       "    </tr>\n",
       "    <tr>\n",
       "      <th>11</th>\n",
       "      <td>nativecountry</td>\n",
       "      <td>0.021752</td>\n",
       "    </tr>\n",
       "    <tr>\n",
       "      <th>6</th>\n",
       "      <td>race</td>\n",
       "      <td>0.018924</td>\n",
       "    </tr>\n",
       "    <tr>\n",
       "      <th>7</th>\n",
       "      <td>gender</td>\n",
       "      <td>0.013492</td>\n",
       "    </tr>\n",
       "  </tbody>\n",
       "</table>\n",
       "</div>"
      ],
      "text/plain": [
       "          Feature  Importance\n",
       "0             age    0.224647\n",
       "8     capitalgain    0.130645\n",
       "5    relationship    0.114418\n",
       "10   hoursperweek    0.112314\n",
       "2       education    0.102435\n",
       "4      occupation    0.094305\n",
       "3   maritalstatus    0.068784\n",
       "1       workclass    0.052675\n",
       "9     capitalloss    0.045608\n",
       "11  nativecountry    0.021752\n",
       "6            race    0.018924\n",
       "7          gender    0.013492"
      ]
     },
     "execution_count": 40,
     "metadata": {},
     "output_type": "execute_result"
    }
   ],
   "source": [
    "#Figuring out which features are most important\n",
    "\n",
    "feature_importance_df = pd.DataFrame(X_train.columns, columns=[\"Feature\"])\n",
    "feature_importance_df[\"Importance\"] = rf.feature_importances_\n",
    "feature_importance_df.sort_values('Importance', ascending=False, inplace=True)\n",
    "feature_importance_df = feature_importance_df.head(20)\n",
    "feature_importance_df"
   ]
  },
  {
   "cell_type": "code",
   "execution_count": 41,
   "metadata": {},
   "outputs": [
    {
     "data": {
      "text/plain": [
       "Text(0.5, 1.0, 'Plot Feature Importances')"
      ]
     },
     "execution_count": 41,
     "metadata": {},
     "output_type": "execute_result"
    },
    {
     "data": {
      "image/png": "[encoded data removed]",
      "text/plain": [
       "<Figure size 1500x500 with 1 Axes>"
      ]
     },
     "metadata": {},
     "output_type": "display_data"
    }
   ],
   "source": [
    "#Plotting the feature importance\n",
    "\n",
    "plt.figure(figsize=(15,5))\n",
    "ax = feature_importance_df['Feature']\n",
    "plt.bar(range(feature_importance_df.shape[0]), feature_importance_df['Importance']*100)\n",
    "plt.xticks(range(feature_importance_df.shape[0]), feature_importance_df['Feature'], rotation = 20)\n",
    "plt.xlabel(\"Features\")\n",
    "plt.ylabel(\"Importance\")\n",
    "plt.title(\"Plot Feature Importances\")"
   ]
  },
  {
   "cell_type": "code",
   "execution_count": 42,
   "metadata": {},
   "outputs": [],
   "source": [
    "#Saving the model for later use \n",
    "\n",
    "pickle_out = open(\"model.pkl\", \"wb\")\n",
    "pickle.dump(gbc, pickle_out)\n",
    "pickle_out.close()"
   ]
  },
  {
   "cell_type": "code",
   "execution_count": 45,
   "metadata": {},
   "outputs": [
    {
     "name": "stdout",
     "output_type": "stream",
     "text": [
      "{'workclass': ['?', 'Federal-gov', 'Local-gov', 'Never-worked', 'Private', 'Self-emp-inc', 'Self-emp-not-inc', 'State-gov', 'Unknown', 'Without-pay'], 'education': ['10th', '11th', '12th', '1st-4th', '5th-6th', '7th-8th', '9th', 'Assoc-acdm', 'Assoc-voc', 'Bachelors', 'Doctorate', 'HS-grad', 'Masters', 'Preschool', 'Prof-school', 'Some-college', 'Unknown'], 'maritalstatus': ['Divorced', 'Married-AF-spouse', 'Married-civ-spouse', 'Married-spouse-absent', 'Never-married', 'Separated', 'Unknown', 'Widowed'], 'occupation': ['?', 'Adm-clerical', 'Armed-Forces', 'Craft-repair', 'Exec-managerial', 'Farming-fishing', 'Handlers-cleaners', 'Machine-op-inspct', 'Other-service', 'Priv-house-serv', 'Prof-specialty', 'Protective-serv', 'Sales', 'Tech-support', 'Transport-moving', 'Unknown'], 'relationship': ['Husband', 'Not-in-family', 'Other-relative', 'Own-child', 'Unknown', 'Unmarried', 'Wife'], 'race': ['Amer-Indian-Eskimo', 'Asian-Pac-Islander', 'Black', 'Other', 'Unknown', 'White'], 'gender': ['Female', 'Male', 'Unknown'], 'nativecountry': ['?', 'Cambodia', 'Canada', 'China', 'Columbia', 'Cuba', 'Dominican-Republic', 'Ecuador', 'El-Salvador', 'England', 'France', 'Germany', 'Greece', 'Guatemala', 'Haiti', 'Holand-Netherlands', 'Honduras', 'Hong', 'Hungary', 'India', 'Iran', 'Ireland', 'Italy', 'Jamaica', 'Japan', 'Laos', 'Mexico', 'Nicaragua', 'Outlying-US(Guam-USVI-etc)', 'Peru', 'Philippines', 'Poland', 'Portugal', 'Puerto-Rico', 'Scotland', 'South', 'Taiwan', 'Thailand', 'Trinadad&Tobago', 'United-States', 'Unknown', 'Vietnam', 'Yugoslavia'], 'income': ['<=50K', '>50K', 'Unknown']}\n"
     ]
    }
   ],
   "source": [
    "#Test the model\n",
    "\n",
    "pkl_file = open('encoder.pkl', 'rb')\n",
    "encoder_dict = pickle.load(pkl_file)\n",
    "pkl_file.close()\n",
    "print(encoder_dict)"
   ]
  },
  {
   "cell_type": "code",
   "execution_count": 46,
   "metadata": {},
   "outputs": [
    {
     "name": "stdout",
     "output_type": "stream",
     "text": [
      "{'age': 27, 'workclass': 'Private', 'education': 'Bachelors', 'maritalstatus': 'Never-married', 'occupation': 'Sales', 'relationship': 'Husband', 'race': 'Other', 'gender': 'Female', 'capitalgain': 50000, 'capitalloss': 45, 'hoursperweek': 40, 'nativecountry': 'India'}\n"
     ]
    }
   ],
   "source": [
    "data = {'age': 27, 'workclass': 'Private', 'education': 'Bachelors', 'maritalstatus': 'Never-married', 'occupation': 'Sales', 'relationship': 'Husband', 'race': 'Other', 'gender': 'Female', 'capitalgain': 50000, 'capitalloss': 45, 'hoursperweek': 40, 'nativecountry': 'India'}\n",
    "print(data)\n",
    "df=pd.DataFrame([list(data.values())], columns=['age','workclass','education','maritalstatus','occupation','relationship','race','gender','capitalgain','capitalloss','hoursperweek','nativecountry'])"
   ]
  },
  {
   "cell_type": "code",
   "execution_count": 47,
   "metadata": {},
   "outputs": [
    {
     "data": {
      "text/plain": [
       "Index(['age', 'workclass', 'education', 'maritalstatus', 'occupation',\n",
       "       'relationship', 'race', 'gender', 'capitalgain', 'capitalloss',\n",
       "       'hoursperweek', 'nativecountry'],\n",
       "      dtype='object')"
      ]
     },
     "execution_count": 47,
     "metadata": {},
     "output_type": "execute_result"
    }
   ],
   "source": [
    "df.head()\n",
    "df.columns"
   ]
  },
  {
   "cell_type": "code",
   "execution_count": 54,
   "metadata": {},
   "outputs": [],
   "source": [
    "import numpy as np\n",
    "from sklearn import preprocessing\n",
    "\n",
    "category_col = ['workclass', 'education', 'maritalstatus', 'occupation', \n",
    "                'relationship', 'race', 'gender', 'nativecountry']\n",
    "\n",
    "for cat in encoder_dict:\n",
    "    for col in category_col:\n",
    "        if cat == col:\n",
    "            le = preprocessing.LabelEncoder()\n",
    "            le.classes_ = np.array(encoder_dict[cat], dtype=object)\n",
    "            df[col] = df[col].apply(lambda x: x if x in le.classes_ else 'Unknown')\n",
    "            df[col] = le.transform(df[col])\n"
   ]
  },
  {
   "cell_type": "code",
   "execution_count": 57,
   "metadata": {},
   "outputs": [],
   "source": [
    "# Convert the data into a DataFrame for easier manipulation\n",
    "df = pd.DataFrame([data])\n",
    "\n",
    "# Load the encoder dictionary from a pickle file\n",
    "with open('encoder.pkl', 'rb') as pkl_file:\n",
    "    encoder_dict = pickle.load(pkl_file)\n",
    "\n",
    "# Preprocess and encode the categorical columns\n",
    "category_col = ['workclass', 'education', 'maritalstatus', 'occupation', 'relationship', 'race', 'gender', 'nativecountry']\n",
    "\n",
    "for col in category_col:\n",
    "    # Initialize a LabelEncoder\n",
    "    le = preprocessing.LabelEncoder()\n",
    "\n",
    "    # Convert the loaded classes list to a numpy array with dtype 'object'\n",
    "    le.classes_ = np.array(encoder_dict[col], dtype=object)\n",
    "\n",
    "    # Check and replace unknown values with 'Unknown' (ensure 'Unknown' is handled correctly)\n",
    "    df[col] = df[col].apply(lambda x: x if x in le.classes_ else 'Unknown')\n",
    "\n",
    "    # If 'Unknown' is not in le.classes_, you need to add it or handle this situation differently\n",
    "    if 'Unknown' not in le.classes_:\n",
    "        # This line is just for illustration; handling needs to be decided based on your use case\n",
    "        print(f\"'Unknown' category not handled for {col}. Please adjust.\")\n",
    "#        continue\n",
    "\n",
    "    # Now transform the data\n",
    "    df[col] = le.transform(df[col])\n"
   ]
  },
  {
   "cell_type": "code",
   "execution_count": 58,
   "metadata": {},
   "outputs": [
    {
     "name": "stdout",
     "output_type": "stream",
     "text": [
      "1\n"
     ]
    }
   ],
   "source": [
    "model = pickle.load(open('model.pkl', 'rb'))\n",
    "features_list = df.values.tolist()\n",
    "prediction = model.predict(features_list)\n",
    "prediction = gbc.predict(features_list)\n",
    "print(prediction[0])"
   ]
  }
 ],
 "metadata": {
  "kernelspec": {
   "display_name": "base",
   "language": "python",
   "name": "python3"
  },
  "language_info": {
   "codemirror_mode": {
    "name": "ipython",
    "version": 3
   },
   "file_extension": ".py",
   "mimetype": "text/x-python",
   "name": "python",
   "nbconvert_exporter": "python",
   "pygments_lexer": "ipython3",
   "version": "3.12.8"
  }
 },
 "nbformat": 4,
 "nbformat_minor": 2
}
